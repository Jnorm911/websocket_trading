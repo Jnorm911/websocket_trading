{
 "cells": [
  {
   "cell_type": "code",
   "execution_count": 37,
   "metadata": {},
   "outputs": [
    {
     "data": {
      "text/plain": [
       "58              Random Forest Classifier (max_depth=5)\n",
       "52              Decision Tree Classifier (Max Depth 5)\n",
       "37                        Gradient Boosting Classifier\n",
       "60     Gradient Boosting Classifier (n_estimators=100)\n",
       "61    Gradient Boosting Classifier (learning_rate=0.1)\n",
       "62          Gradient Boosting Classifier (max_depth=3)\n",
       "42                             Multinomial Naive Bayes\n",
       "59     Random Forest Classifier (min_samples_split=10)\n",
       "50                                            Stacking\n",
       "Name: Model, dtype: object"
      ]
     },
     "execution_count": 37,
     "metadata": {},
     "output_type": "execute_result"
    }
   ],
   "source": [
    "import pandas as pd\n",
    "\n",
    "# Increase the max_colwidth display option\n",
    "pd.set_option('display.max_colwidth', None)\n",
    "\n",
    "df = pd.read_csv(\"C:\\\\Users\\\\jnorm\\\\Projects\\\\websocket_trading\\\\model_results.csv\")\n",
    "\n",
    "# Filter rows with an accuracy greater than or equal to 0.55\n",
    "filtered_df = df[df['Score'] >= 0.55]\n",
    "\n",
    "# Filter the DataFrame to show only rows where 'Type' is equal to 'minmax'\n",
    "type_df = filtered_df[filtered_df['Type'] == 'minmax']\n",
    "\n",
    "# Sort the minmax DataFrame by 'Score' in descending order\n",
    "sorted_df = type_df.sort_values(by='Score', axis=0, ascending=False)\n",
    "\n",
    "# Display the resulting DataFrame\n",
    "sorted_df['Model']\n"
   ]
  },
  {
   "cell_type": "code",
   "execution_count": 38,
   "metadata": {},
   "outputs": [
    {
     "name": "stdout",
     "output_type": "stream",
     "text": [
      "\n",
      "Total number of rows: 9\n"
     ]
    }
   ],
   "source": [
    "# Count the total number of rows in the displayed DataFrame\n",
    "print(f\"\\nTotal number of rows: {sorted_df.shape[0]}\")\n"
   ]
  }
 ],
 "metadata": {
  "kernelspec": {
   "display_name": ".venv",
   "language": "python",
   "name": "python3"
  },
  "language_info": {
   "codemirror_mode": {
    "name": "ipython",
    "version": 3
   },
   "file_extension": ".py",
   "mimetype": "text/x-python",
   "name": "python",
   "nbconvert_exporter": "python",
   "pygments_lexer": "ipython3",
   "version": "3.10.10"
  },
  "orig_nbformat": 4
 },
 "nbformat": 4,
 "nbformat_minor": 2
}
